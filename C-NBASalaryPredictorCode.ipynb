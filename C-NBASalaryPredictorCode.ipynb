{
 "cells": [
  {
   "cell_type": "code",
   "execution_count": null,
   "id": "a710b5c2-561e-4d9e-8cf1-4b6656f97ba8",
   "metadata": {},
   "outputs": [],
   "source": [
    "# -----------------------------\n",
    "# Import Libraries\n",
    "# -----------------------------\n",
    "import pandas as pd\n",
    "from sklearn.preprocessing import OneHotEncoder\n",
    "from sklearn.model_selection import train_test_split\n",
    "from sklearn.linear_model import LinearRegression\n",
    "from sklearn.metrics import mean_squared_error, r2_score\n",
    "import matplotlib.pyplot as plt\n",
    "\n",
    "# Optional: display plots inline\n",
    "%matplotlib inline"
   ]
  },
  {
   "cell_type": "code",
   "execution_count": null,
   "id": "63a9ba86-83c2-429c-9365-59ea10285229",
   "metadata": {},
   "outputs": [],
   "source": [
    "# -----------------------------\n",
    "# Load NBA Player Stats & Salaries Dataset\n",
    "# -----------------------------\n",
    "df = pd.read_csv('/Users/yusufshire/Downloads/NBA Player Stats and Salaries_2010-2025 2.csv')\n",
    "\n",
    "# Preview first 5 rows\n",
    "print(\"First 5 rows of data:\")\n",
    "display(df.head())\n",
    "\n",
    "# Check for missing values in key columns\n",
    "print(\"\\nMissing values in key columns:\")\n",
    "print(df[['Salary', 'PTS', 'AST', 'ORB', 'DRB', 'Pos', 'Team', 'Age']].isnull().sum())"
   ]
  },
  {
   "cell_type": "code",
   "execution_count": null,
   "id": "9566432b-50b5-481d-8aa7-85bfc2702dc3",
   "metadata": {},
   "outputs": [],
   "source": [
    "# -----------------------------\n",
    "# Data Cleaning: Remove rows with missing key stats\n",
    "# -----------------------------\n",
    "# Drop rows with missing salary or stats\n",
    "df = df.dropna(subset=['Salary', 'PTS', 'AST', 'ORB', 'DRB', 'Pos', 'Team', 'Age'])\n",
    "\n",
    "# Check all nulls\n",
    "print(\"Remaining nulls per column:\")\n",
    "print(df.isnull().sum())"
   ]
  },
  {
   "cell_type": "code",
   "execution_count": null,
   "id": "22198aae-31d0-42a7-8e8c-9279fe8e66a1",
   "metadata": {},
   "outputs": [],
   "source": [
    "# -----------------------------\n",
    "# Feature Engineering: One-Hot Encode Categorical Columns\n",
    "# -----------------------------\n",
    "categorical_cols = ['Team', 'Pos']\n",
    "\n",
    "# Initialize encoder\n",
    "encoder = OneHotEncoder(drop='first', sparse_output=False)\n",
    "\n",
    "# Encode categorical columns\n",
    "encoded_array = encoder.fit_transform(df[categorical_cols])\n",
    "encoded_df = pd.DataFrame(encoded_array, columns=encoder.get_feature_names_out(categorical_cols))\n",
    "\n",
    "# Drop original categorical columns + optional 'Player' and 'Season'\n",
    "cols_to_drop = categorical_cols.copy()\n",
    "if 'Player' in df.columns:\n",
    "    cols_to_drop.append('Player')\n",
    "if 'Season' in df.columns:\n",
    "    cols_to_drop.append('Season')\n",
    "\n",
    "df_numeric = df.drop(columns=cols_to_drop)"
   ]
  },
  {
   "cell_type": "code",
   "execution_count": null,
   "id": "712c5791-26fa-4e18-9701-9f6785c85b01",
   "metadata": {},
   "outputs": [],
   "source": [
    "# -----------------------------\n",
    "# Prepare Features (X) and Target (y)\n",
    "# -----------------------------\n",
    "df_final = pd.concat([df_numeric.reset_index(drop=True), encoded_df.reset_index(drop=True)], axis=1)\n",
    "\n",
    "X = df_final.drop(columns=['Salary'])\n",
    "y = df_final['Salary']\n",
    "\n",
    "# Fill any remaining NaNs\n",
    "X = X.fillna(0)\n",
    "y = y.fillna(0)\n",
    "\n",
    "# Train/Test Split\n",
    "X_train, X_test, y_train, y_test = train_test_split(X, y, test_size=0.2, random_state=42)"
   ]
  },
  {
   "cell_type": "code",
   "execution_count": null,
   "id": "f0a060cd-c36c-4117-b4be-d2b251ea576d",
   "metadata": {},
   "outputs": [],
   "source": [
    "# -----------------------------\n",
    "# Train Linear Regression Model\n",
    "# -----------------------------\n",
    "model = LinearRegression()\n",
    "model.fit(X_train, y_train)\n",
    "\n",
    "# Predict on test set\n",
    "y_pred = model.predict(X_test)"
   ]
  },
  {
   "cell_type": "code",
   "execution_count": null,
   "id": "ce3f0ebd-4a0f-4b3d-ad30-51c60d5c2422",
   "metadata": {},
   "outputs": [],
   "source": [
    "# -----------------------------\n",
    "# Model Evaluation: Predicted vs Actual Salary\n",
    "# -----------------------------\n",
    "plt.figure(figsize=(8,6))\n",
    "plt.scatter(y_test, y_pred, alpha=0.6)\n",
    "plt.xlabel(\"Actual Salary\")\n",
    "plt.ylabel(\"Predicted Salary\")\n",
    "plt.title(\"NBA Player Salary Prediction\")\n",
    "plt.plot([y_test.min(), y_test.max()], [y_test.min(), y_test.max()], 'r--')\n",
    "plt.grid(True)\n",
    "plt.show()"
   ]
  },
  {
   "cell_type": "code",
   "execution_count": null,
   "id": "4566c03b-b6e3-4d8d-b40d-f8ff305af08f",
   "metadata": {},
   "outputs": [],
   "source": [
    "# -----------------------------\n",
    "# Create Experience Level Column\n",
    "# -----------------------------\n",
    "df['ExperienceLevel'] = df['Age'].apply(lambda x: 'Rookie' if x <= 23 else 'Veteran')\n",
    "\n",
    "# Average Salary by Experience Level\n",
    "avg_salary_by_exp = df.groupby('ExperienceLevel')['Salary'].mean()\n",
    "print(\"Average Salary by Experience Level:\")\n",
    "print(avg_salary_by_exp)"
   ]
  },
  {
   "cell_type": "code",
   "execution_count": null,
   "id": "85f8d9c1-76ca-4647-8c5b-ba6b0a2d1732",
   "metadata": {},
   "outputs": [],
   "source": [
    "# -----------------------------\n",
    "# Visualize Average Salary: Rookie vs Veteran\n",
    "# -----------------------------\n",
    "avg_salary_by_exp.plot(kind='bar', color=['skyblue', 'salmon'], title='Average Salary: Rookie vs Veteran')\n",
    "plt.ylabel(\"Average Salary\")\n",
    "plt.show()"
   ]
  }
 ],
 "metadata": {
  "kernelspec": {
   "display_name": "Python 3 (ipykernel)",
   "language": "python",
   "name": "python3"
  },
  "language_info": {
   "codemirror_mode": {
    "name": "ipython",
    "version": 3
   },
   "file_extension": ".py",
   "mimetype": "text/x-python",
   "name": "python",
   "nbconvert_exporter": "python",
   "pygments_lexer": "ipython3",
   "version": "3.12.4"
  }
 },
 "nbformat": 4,
 "nbformat_minor": 5
}
